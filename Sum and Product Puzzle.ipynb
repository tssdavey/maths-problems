{
 "cells": [
  {
   "cell_type": "code",
   "execution_count": 35,
   "metadata": {},
   "outputs": [
    {
     "name": "stdout",
     "output_type": "stream",
     "text": [
      "11 4\n",
      "17 7\n",
      "23 10\n",
      "27 12\n",
      "29 13\n",
      "35 16\n",
      "37 17\n",
      "41 19\n",
      "47 22\n",
      "51 24\n",
      "53 25\n",
      "57 27\n",
      "59 28\n",
      "65 31\n",
      "67 32\n",
      "71 34\n",
      "77 37\n",
      "79 38\n",
      "83 40\n",
      "87 42\n",
      "89 43\n",
      "93 45\n",
      "95 46\n",
      "97 47\n"
     ]
    }
   ],
   "source": [
    "possible_sums = []\n",
    "for i in range(9,101):\n",
    "    #print (i,end='')\n",
    "    works = True\n",
    "    option_count = 0\n",
    "    for j in range(2,(i+1)//2):\n",
    "        if j in primes and i-j in primes:\n",
    "            #print ('P could know what it is')\n",
    "            works = False\n",
    "            break\n",
    "        else:\n",
    "            option_count += 1\n",
    "    if works == True:\n",
    "        possible_sums.append(i)\n",
    "        print (i,option_count)"
   ]
  },
  {
   "cell_type": "code",
   "execution_count": 22,
   "metadata": {},
   "outputs": [],
   "source": [
    "primes = [2, 3, 5, 7, 11, 13, 17, 19, 23, 29, 31, 37, 41, 43, 47, 53, 59, 61, 67, 71, 73, 79, 83, 89, 97]"
   ]
  },
  {
   "cell_type": "code",
   "execution_count": 36,
   "metadata": {},
   "outputs": [
    {
     "data": {
      "text/plain": [
       "[11,\n",
       " 17,\n",
       " 23,\n",
       " 27,\n",
       " 29,\n",
       " 35,\n",
       " 37,\n",
       " 41,\n",
       " 47,\n",
       " 51,\n",
       " 53,\n",
       " 57,\n",
       " 59,\n",
       " 65,\n",
       " 67,\n",
       " 71,\n",
       " 77,\n",
       " 79,\n",
       " 83,\n",
       " 87,\n",
       " 89,\n",
       " 93,\n",
       " 95,\n",
       " 97]"
      ]
     },
     "execution_count": 36,
     "metadata": {},
     "output_type": "execute_result"
    }
   ],
   "source": [
    "possible_sums"
   ]
  },
  {
   "cell_type": "code",
   "execution_count": 85,
   "metadata": {},
   "outputs": [
    {
     "name": "stdout",
     "output_type": "stream",
     "text": [
      "17\n",
      "(4, 13)\n"
     ]
    }
   ],
   "source": [
    "for mysum in possible_sums:\n",
    "    #print (mysum)\n",
    "    #print ('--------')\n",
    "    true_true_count = 0\n",
    "    for j in range(2,(mysum+1)//2):\n",
    "        true_count = 0\n",
    "        #print (j,mysum-j)\n",
    "        #print (j * (mysum-j))\n",
    "        tmplist = list(factors(j * (mysum-j)))\n",
    "        possible_factors = tmplist[:len(tmplist)//2]\n",
    "        #print (possible_factors)\n",
    "        for (f1,f2) in possible_factors:\n",
    "            works = False\n",
    "            if f1 + f2 in possible_sums:\n",
    "                if works == False:\n",
    "                    works = True\n",
    "                else:\n",
    "                    works = False\n",
    "            #print (f1 + f2)\n",
    "            if works == True:\n",
    "                true_count += 1\n",
    "                sol = (f1,f2)\n",
    "        if true_count == 1:\n",
    "            true_true_count += 1\n",
    "            true_sol = sol\n",
    "        #print (true_count)\n",
    "    if true_true_count == 1:\n",
    "        print (mysum)\n",
    "        print (true_sol)"
   ]
  },
  {
   "cell_type": "code",
   "execution_count": 53,
   "metadata": {},
   "outputs": [],
   "source": [
    "def factors(n):\n",
    "    for i in range(2,n//2 + 1):\n",
    "        if n/i == n//i:\n",
    "            yield (i,n//i)"
   ]
  },
  {
   "cell_type": "code",
   "execution_count": 55,
   "metadata": {},
   "outputs": [],
   "source": [
    "x = list(factors(60))"
   ]
  },
  {
   "cell_type": "code",
   "execution_count": 57,
   "metadata": {},
   "outputs": [
    {
     "data": {
      "text/plain": [
       "[(2, 30), (3, 20), (4, 15), (5, 12), (6, 10)]"
      ]
     },
     "execution_count": 57,
     "metadata": {},
     "output_type": "execute_result"
    }
   ],
   "source": [
    "x[:len(x)//2]"
   ]
  },
  {
   "cell_type": "code",
   "execution_count": null,
   "metadata": {},
   "outputs": [],
   "source": []
  }
 ],
 "metadata": {
  "kernelspec": {
   "display_name": "Python 3",
   "language": "python",
   "name": "python3"
  },
  "language_info": {
   "codemirror_mode": {
    "name": "ipython",
    "version": 3
   },
   "file_extension": ".py",
   "mimetype": "text/x-python",
   "name": "python",
   "nbconvert_exporter": "python",
   "pygments_lexer": "ipython3",
   "version": "3.8.2"
  }
 },
 "nbformat": 4,
 "nbformat_minor": 4
}
